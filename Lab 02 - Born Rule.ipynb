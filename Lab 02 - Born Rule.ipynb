{
 "cells": [
  {
   "cell_type": "markdown",
   "id": "679e792c",
   "metadata": {},
   "source": [
    "## Lab: Demonstrating the Born Rule\n",
    "\n",
    "The **Born rule** states that measurement probabilities are given by the squared amplitudes of a quantum state.  \n",
    "For a qubit $|S\\rangle = a|0\\rangle + b|1\\rangle$, with the normalization constraint $a^2 + b^2 = 1$, the probability of recording the classical result **0** is $P(0) = |a|^2$, and the probability of recording **1** is $P(1) = |b|^2$.  \n",
    "In this lab we prepare a qubit state for chosen values of $a$ and $b$, measure it repeatedly, and compare the observed frequencies with these predictions.  \n",
    "\n",
    "### Task\n",
    "Prepare a single-qubit state as $|S\\rangle = 0.6|0\\rangle + 0.8|1\\rangle$.  \n",
    "Simulate repeated measurements in the computational (Z) basis and compare the observed frequencies with the theoretical probabilities predicted by the Born rule.  \n",
    "\n",
    "### Expected Output\n",
    "- Theoretical probabilities calculated from the given amplitudes.  \n",
    "- A dictionary of observed measurement counts.  \n",
    "- A dictionary of observed measurement probabilities.  \n",
    "- A probability distribution plot showing measured vs. theoretical probabilities.  \n",
    "\n",
    "The results should confirm that the empirical frequencies are close to the probabilities predicted by the Born rule.  \n",
    "\n",
    "### Optional Challenge\n",
    "- Repeat the experiment with different values of $a$ and $b$ and compare the results.  \n",
    "- Increase the number of shots (e.g., 10,000) to see how the observed frequencies converge more closely to the theoretical values.  \n",
    "- Add a numerical check by calculating the relative error or confidence interval for each probability.  "
   ]
  },
  {
   "cell_type": "code",
   "execution_count": null,
   "id": "82d5783b",
   "metadata": {},
   "outputs": [],
   "source": [
    "from IPython.display import display\n",
    "from qiskit.quantum_info import Statevector\n",
    "from qiskit.visualization import plot_histogram, plot_distribution\n",
    "import numpy as np\n",
    "\n",
    "# 1. Define the qubit state |S⟩ = 0.6|0⟩ + 0.8|1⟩\n",
    "\n",
    "a = 0.6               # pick a coefficient for |0>\n",
    "b = np.sqrt(1 - a**2) # ensure normalization for |1>\n",
    "                      # Calculate theoretical probabilities from Born rule\n",
    "theoretical_probs = {'0': a**2, '1': b**2}\n",
    "state = Statevector([a, b]) # set the state vector\n",
    "\n",
    "# 2. Simulate measurements in the computational (Z) basis\n",
    "shots = 1000\n",
    "counts = state.sample_counts(shots=shots)\n",
    "\n",
    "# 3. Convert result to native Python types & counts to probabilities\n",
    "py_counts = {str(k): int(v) for k, v in counts.items()}\n",
    "measured_probs = {outcome: value/shots for outcome, value in py_counts.items()}\n",
    "\n",
    "# 4. Print results\n",
    "print(f\"Expected probabilities for a={a:.2f} and b={b:.2f}: P(0)={a**2:.2f}, P(1)={b**2:.2f}\")\n",
    "print(f\"Observed measurement counts ({shots} shots):\", py_counts)\n",
    "print(f\"Observed measurement probabilities ({shots} shots):\", measured_probs)\n",
    "\n",
    "# 5. Plot histogram of observed and theoretical distribution\n",
    "display(plot_histogram(py_counts, title=\"Measurement Results\"))\n",
    "display(\n",
    "    plot_distribution(\n",
    "        [measured_probs, theoretical_probs],\n",
    "        title=\"Measured vs Theoretical Probabilities\",\n",
    "        legend=[\"Measured\", \"Theoretical\"]\n",
    "    )\n",
    ")"
   ]
  }
 ],
 "metadata": {
  "kernelspec": {
   "display_name": "qiskit-2.0.2",
   "language": "python",
   "name": "qiskit-2.0.2"
  },
  "language_info": {
   "codemirror_mode": {
    "name": "ipython",
    "version": 3
   },
   "file_extension": ".py",
   "mimetype": "text/x-python",
   "name": "python",
   "nbconvert_exporter": "python",
   "pygments_lexer": "ipython3",
   "version": "3.13.3"
  }
 },
 "nbformat": 4,
 "nbformat_minor": 5
}
