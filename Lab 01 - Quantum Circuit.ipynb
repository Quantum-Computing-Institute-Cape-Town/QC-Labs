{
 "cells": [
  {
   "cell_type": "markdown",
   "id": "6f4652f2-58ef-4b60-bd2a-d9bf210394fa",
   "metadata": {},
   "source": [
    "### Lab 01: Building and Simulating a Simple Quantum Circuit\n",
    "\n",
    "This lab demonstrates how to create and simulate a basic 2-qubit quantum circuit using Qiskit. The circuit applies an `X` gate to qubit 0 and a `Hadamard` gate to qubit 1, followed by measurement. The simulation is executed 1000 times to visualize the resulting output distribution.\n",
    "\n",
    "---\n",
    "\n",
    "### Task\n",
    "\n",
    "1. **Run the provided code** and inspect the circuit diagram and output plots.  \n",
    "2. **Explain what each gate does** and predict the expected measurement outcomes.  \n",
    "3. **Modify the circuit**:  \n",
    "   - Replace the `X` gate on qubit 0 with a `Hadamard` gate.  \n",
    "   - Re-run the simulation and describe how the output distribution changes.  \n",
    "4. **Challenge** *(optional)*: Add a `CNOT` gate and observe how entanglement affects the results.\n",
    "\n",
    "---"
   ]
  },
  {
   "cell_type": "code",
   "execution_count": null,
   "id": "ff1d0549-798a-4c44-ba32-e6eeaddb0127",
   "metadata": {
    "scrolled": true
   },
   "outputs": [],
   "source": [
    "# enable inline display of matplotlib plots in Jupyter notebooks\n",
    "%matplotlib inline\n",
    "\n",
    "from qiskit import QuantumCircuit\n",
    "from qiskit_aer import AerSimulator\n",
    "from qiskit.visualization import circuit_drawer, plot_histogram ,plot_distribution\n",
    "\n",
    "def generate_qc():\n",
    "    \"\"\"\n",
    "    Creates a 2-qubit quantum circuit with basic state preparation and measurement.\n",
    "    Applies an X gate to qubit 0 and a Hadamard gate to qubit 1, \n",
    "    then measures both qubits into classical bits.\n",
    "    Returns a QuantumCircuit object.\n",
    "    \"\"\"\n",
    "    n_qubits = 2\n",
    "    n_bits = 2\n",
    "    qc = QuantumCircuit(n_qubits, n_bits)\n",
    "\n",
    "    qc.x(0)\n",
    "    qc.h(1)\n",
    "        \n",
    "    qc.measure(range(n_qubits), range(n_bits))\n",
    "    \n",
    "    return qc\n",
    "        \n",
    "# ------------------------------------------------\n",
    "#                main program\n",
    "# ------------------------------------------------\n",
    "# --  setup simulator ---\n",
    "simulator = AerSimulator()\n",
    "shots = 1000\n",
    "\n",
    "# -- run the circuit --\n",
    "qc = generate_qc()\n",
    "result = simulator.run(qc,shots = shots).result()\n",
    "counts = result.get_counts(qc)\n",
    "\n",
    "# -- draw the circuit --\n",
    "circuit_drawer(qc, output=\"mpl\")\n",
    "\n",
    "# -- plot counts --\n",
    "plot_histogram(counts)\n",
    "\n",
    "# -- plot probability distribution --\n",
    "plot_distribution(counts)\n",
    "\n",
    "# -- print counts dictionary --\n",
    "print (counts)"
   ]
  },
  {
   "cell_type": "code",
   "execution_count": null,
   "id": "c2c3c720-5c51-46a2-a6f5-a10e193ca344",
   "metadata": {},
   "outputs": [],
   "source": []
  }
 ],
 "metadata": {
  "kernelspec": {
   "display_name": "qiskit-2.0.2",
   "language": "python",
   "name": "qiskit-2.0.2"
  },
  "language_info": {
   "codemirror_mode": {
    "name": "ipython",
    "version": 3
   },
   "file_extension": ".py",
   "mimetype": "text/x-python",
   "name": "python",
   "nbconvert_exporter": "python",
   "pygments_lexer": "ipython3",
   "version": "3.13.3"
  }
 },
 "nbformat": 4,
 "nbformat_minor": 5
}
