{
 "cells": [
  {
   "cell_type": "markdown",
   "id": "601a7450",
   "metadata": {},
   "source": [
    "### Lab 01: Building and Simulating a Simple Quantum Circuit\n",
    "\n",
    "This lab demonstrates how to create and simulate a basic single-qubit quantum circuit using Qiskit. The circuit applies a Hadamard gate to the qubit and then performs a measurement.\n",
    "\n",
    "---\n",
    "\n",
    "### Task\n",
    "\n",
    "1. Run the provided code, examine the circuit diagram, and explain the function of the circuit.\n",
    "2. Describe the differences observed in the counts and distribution plots.\n",
    "\n",
    "\n",
    "### Experimentation\n",
    "\n",
    "1. Add another `H` gate to the circuit and observe the outcome. What happens?\n",
    "2. Insert a `Z` gate between the two `H` gates and observe the outcome. What happens?\n",
    "3. Uncomment the line `qc = transpile(...)` in the `generate_qc` function and run the code. What happens?\n",
    "\n",
    "---"
   ]
  },
  {
   "cell_type": "code",
   "execution_count": null,
   "id": "697c48b8-e356-4d82-8143-e1a9cbf1c8ff",
   "metadata": {
    "scrolled": false
   },
   "outputs": [],
   "source": [
    "from IPython.display import display\n",
    "\n",
    "from qiskit import QuantumCircuit, transpile\n",
    "from qiskit.visualization import circuit_drawer, plot_histogram ,plot_distribution\n",
    "from qiskit_aer import AerSimulator\n",
    "\n",
    "\n",
    "def generate_qc():\n",
    "    \"\"\"\n",
    "    Creates a single-qubit quantum circuit with a Hadamard gate \n",
    "    followed by a measurement.\n",
    "\n",
    "    Returns:\n",
    "        QuantumCircuit: The constructed quantum circuit.\n",
    "    \"\"\"\n",
    "\n",
    "    n_qubits = 1\n",
    "    n_bits = 1\n",
    "    \n",
    "    qc = QuantumCircuit(n_qubits, n_bits)\n",
    "    qc.h(0)\n",
    "    qc.measure(range(n_qubits), range(n_bits))\n",
    "    #qc = transpile(qc, basis_gates=['u1', 'u2', 'u3', 'cx'])\n",
    "    \n",
    "    return qc\n",
    "        \n",
    "# ------------------------------------------------\n",
    "#                main program\n",
    "# ------------------------------------------------\n",
    "\n",
    "# --  setup simulator ---\n",
    "simulator = AerSimulator()\n",
    "shots = 1024\n",
    "\n",
    "# -- run the circuit --\n",
    "qc = generate_qc()\n",
    "result = simulator.run(qc,shots = shots).result()\n",
    "counts = result.get_counts(qc)\n",
    "\n",
    "# -- draw the circuit --\n",
    "circuit_plot = circuit_drawer(qc, output=\"mpl\")\n",
    "display(circuit_plot)\n",
    "\n",
    "# -- plot counts --\n",
    "display(plot_histogram(counts))\n",
    "display(plot_distribution(counts))\n",
    "\n",
    "# -- print counts dictionary --\n",
    "print (counts)"
   ]
  }
 ],
 "metadata": {
  "kernelspec": {
   "display_name": "qiskit-2.0.2",
   "language": "python",
   "name": "qiskit-2.0.2"
  },
  "language_info": {
   "codemirror_mode": {
    "name": "ipython",
    "version": 3
   },
   "file_extension": ".py",
   "mimetype": "text/x-python",
   "name": "python",
   "nbconvert_exporter": "python",
   "pygments_lexer": "ipython3",
   "version": "3.13.3"
  }
 },
 "nbformat": 4,
 "nbformat_minor": 5
}
